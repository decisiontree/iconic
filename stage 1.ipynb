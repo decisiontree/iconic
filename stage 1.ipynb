{
 "cells": [
  {
   "cell_type": "code",
   "execution_count": 1,
   "metadata": {
    "collapsed": true
   },
   "outputs": [],
   "source": [
    "import sqlite3\n",
    " \n",
    "class PercentileFunc:\n",
    "    def __init__(self):\n",
    "        self.list = []\n",
    "        self.percent = None\n",
    " \n",
    "    def step(self, value, percent):\n",
    "        if value is None:\n",
    "            return\n",
    "        if self.percent is None:\n",
    "            self.percent = percent\n",
    "        if self.percent != percent:\n",
    "            return\n",
    "        self.list.append(value)\n",
    " \n",
    "    def finalize(self):\n",
    "        if len(self.list) == 0:\n",
    "            return None\n",
    "        self.list.sort()\n",
    "        return self.list[int(round((len(self.list)-1)*self.percent/100.0))]\n",
    " "
   ]
  },
  {
   "cell_type": "markdown",
   "metadata": {},
   "source": [
    "## 1. What was the total revenue to the nearest dollar for customers who have paid by credit card?\n"
   ]
  },
  {
   "cell_type": "code",
   "execution_count": 2,
   "metadata": {},
   "outputs": [
    {
     "name": "stdout",
     "output_type": "stream",
     "text": [
      "Total revenue for customers who have paid by CC is 50189329.0\n"
     ]
    }
   ],
   "source": [
    "with sqlite3.connect('test_data.db') as con:    \n",
    "    cur = con.cursor()\n",
    "    query1 = f\"\"\"\n",
    "    select round(sum(revenue),0) as tot_rev\n",
    "    from (\n",
    "            select customer_id, max(revenue) revenue, max(cc_payments) cc_payments\n",
    "            from customers \n",
    "            group by customer_id\n",
    "    )cust_tran \n",
    "    where cc_payments >0\"\"\"\n",
    "    cur.execute(query1) \n",
    "    print(\"Total revenue for customers who have paid by CC is {}\".format(cur.fetchone()[0]))\n"
   ]
  },
  {
   "cell_type": "markdown",
   "metadata": {},
   "source": [
    "## 2. What percentage of customers who have purchased female items have paid by credit card?"
   ]
  },
  {
   "cell_type": "code",
   "execution_count": null,
   "metadata": {
    "collapsed": true
   },
   "outputs": [],
   "source": [
    "with sqlite3.connect('test_data.db') as con:    \n",
    "    cur = con.cursor()\n",
    "    query2 = f\"\"\"\n",
    "    select round(cc_cust*1.0/all_cust,2) as cc_cust_ratio\n",
    "    from(\n",
    "        select count(distinct customer_id) as all_cust\n",
    "                , sum(case when cc_payments > 0 then 1 else 0 end) as cc_cust\n",
    "        from (\n",
    "            select customer_id, sum(female_items) as female_items, sum(cc_payments) as cc_payments\n",
    "            from customers \n",
    "            group by customer_id\n",
    "        )cust_tran\n",
    "        where female_items > 0\n",
    "    )\"\"\"\n",
    "    cur.execute(query2) \n",
    "    print(\"The percentage is {}\".format(cur.fetchone()[0]))"
   ]
  },
  {
   "cell_type": "markdown",
   "metadata": {},
   "source": [
    "## 3. What was the average revenue for customers who used either iOS, Android or Desktop? "
   ]
  },
  {
   "cell_type": "code",
   "execution_count": null,
   "metadata": {
    "collapsed": true
   },
   "outputs": [],
   "source": [
    "with sqlite3.connect('test_data.db') as con:    \n",
    "    cur = con.cursor()\n",
    "    query3 = f\"\"\"\n",
    "    select round(sum(revenue)/count(customer_id),0) rev_avg\n",
    "    from(\n",
    "        select customer_id, max(revenue) as revenue\n",
    "        from customers \n",
    "        group by customer_id\n",
    "        having sum(desktop_orders) + sum(android_orders) + sum(ios_orders) > 0\t\n",
    "    )\"\"\"\n",
    "    cur.execute(query3) \n",
    "    print(\"The average revenue is {}\".format(cur.fetchone()[0]))"
   ]
  },
  {
   "cell_type": "markdown",
   "metadata": {},
   "source": [
    "## 4. We want to run an email campaign promoting a new mens luxury brand. Can you provide a list of customers we should send to?"
   ]
  },
  {
   "cell_type": "code",
   "execution_count": null,
   "metadata": {
    "collapsed": true
   },
   "outputs": [],
   "source": [
    "class PercentileFunc:\n",
    "    def __init__(self):\n",
    "        self.list = []\n",
    "        self.percent = None\n",
    " \n",
    "    def step(self, value, percent):\n",
    "        if value is None:\n",
    "            return\n",
    "        if self.percent is None:\n",
    "            self.percent = percent\n",
    "        if self.percent != percent:\n",
    "            return\n",
    "        self.list.append(value)\n",
    " \n",
    "    def finalize(self):\n",
    "        if len(self.list) == 0:\n",
    "            return None\n",
    "        self.list.sort()\n",
    "        return self.list[int(round((len(self.list)-1)*self.percent/100.0))]"
   ]
  },
  {
   "cell_type": "code",
   "execution_count": null,
   "metadata": {
    "collapsed": true
   },
   "outputs": [],
   "source": [
    "#pick up users whose male item is at least x% of total items bought(set1)\n",
    "#pick up users whose revenue is the top (1-Y% )in terms of income(set2), y is percential value\n",
    "#inner join set1 and set2\n",
    "MALE_ITEM_RATIO=0.1\n",
    "REVENUE_PERCENTILE=55\n",
    "\n",
    "with sqlite3.connect('test_data.db') as con:    \n",
    "    cur = con.cursor()\n",
    "    #generate base table\n",
    "    query4_0 = f\"\"\"\n",
    "    create table base as\n",
    "    select customer_id, male_items, female_items, revenue\n",
    "    from(\n",
    "        select  customer_id\n",
    "                , sum(male_items) as male_items\n",
    "                , sum(female_items) as female_items\n",
    "                , sum(revenue) revenue\n",
    "        from customers \n",
    "        group by customer_id\n",
    "    )\"\"\"\n",
    "    cur.execute(\"drop table if exists base\")\n",
    "    cur.execute(query4_0) \n",
    "\n",
    "    \n",
    "    #majority shopping items are male items\n",
    "    cur = con.cursor()\n",
    "    query4_1 = f\"\"\"\n",
    "    create table set1 as\n",
    "    select customer_id\n",
    "    from base \n",
    "    group by customer_id\n",
    "    having sum(male_items)*1.0/(sum(male_items) + sum(female_items)) > {MALE_ITEM_RATIO}\n",
    "    \"\"\"\n",
    "    cur.execute(\"drop table if exists set1\")\n",
    "    cur.execute(query4_1) \n",
    "\n",
    "    \n",
    "    #high revenue customers, first get specifiled percential value\n",
    "    con.create_aggregate(\"percentile\", 2, PercentileFunc)\n",
    "    cur.execute(f\"\"\"select percentile(revenue, {REVENUE_PERCENTILE}) from base\"\"\")\n",
    "    val = cur.fetchone()[0]\n",
    "    #high revenue customers, get customers revenue more than specified percentile\n",
    "    cur = con.cursor()\n",
    "    query4_2 = f\"\"\"\n",
    "    create table set2 as\n",
    "    select customer_id\n",
    "    from base \n",
    "    where revenue > {val}\n",
    "    \"\"\"\n",
    "    cur.execute(\"drop table if exists set2\")   \n",
    "    cur.execute(query4_2) \n",
    "\n",
    "    \n",
    "    #high revewnue customers and majority shopping items are male items\n",
    "    cur = con.cursor()\n",
    "    query4_3 = f\"\"\"\n",
    "    create table q4final as\n",
    "    select set1.customer_id\n",
    "    from set1\n",
    "    inner join set2\n",
    "    on set1.customer_id = set2.customer_id\n",
    "    \"\"\"\n",
    "    cur.execute(\"drop table if exists q4final\")   \n",
    "    cur.execute(query4_3) \n",
    "    \n",
    "    cur = con.cursor()\n",
    "    cur.execute(\"select count(*) from q4final\")  \n",
    "    total_count = cur.fetchone()[0]\n",
    "    print(\"As per table query4_3, in output table q4final, there are {} customers selected.\".format(total_count))\n"
   ]
  }
 ],
 "metadata": {
  "kernelspec": {
   "display_name": "Python 3",
   "language": "python",
   "name": "python3"
  },
  "language_info": {
   "codemirror_mode": {
    "name": "ipython",
    "version": 3
   },
   "file_extension": ".py",
   "mimetype": "text/x-python",
   "name": "python",
   "nbconvert_exporter": "python",
   "pygments_lexer": "ipython3",
   "version": "3.6.3"
  }
 },
 "nbformat": 4,
 "nbformat_minor": 2
}
