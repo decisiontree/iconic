{
 "cells": [
  {
   "cell_type": "code",
   "execution_count": 22,
   "metadata": {
    "collapsed": true
   },
   "outputs": [],
   "source": [
    "import numpy as np\n",
    "import pandas as pd\n",
    "import os\n",
    "import sys\n",
    "\n",
    "import xgboost as xgb\n",
    "from sklearn.model_selection import train_test_split\n",
    "from sklearn.model_selection import GridSearchCV, RandomizedSearchCV\n",
    "from sklearn.pipeline import Pipeline\n",
    "from sklearn import metrics\n",
    "from sklearn.model_selection import cross_val_score\n",
    "from sklearn.model_selection import StratifiedKFold\n",
    "\n",
    "import pickle\n",
    "from config import ColumnConfigs,AllModelImputer,ToLowerCase,ConvertDType,VarRemover\n",
    "import util\n",
    "import seaborn as sns\n",
    "from sklearn.cluster import KMeans\n",
    "import pylab as pl\n",
    "import matplotlib.pyplot as plt\n"
   ]
  },
  {
   "cell_type": "code",
   "execution_count": 23,
   "metadata": {},
   "outputs": [
    {
     "name": "stdout",
     "output_type": "stream",
     "text": [
      "/home/phan5/bigjoin_bigquery/icon\n"
     ]
    }
   ],
   "source": [
    "work_dir = os.getcwd()\n",
    "sys.path.append(work_dir)\n",
    "os.chdir(work_dir)\n",
    "print(work_dir)"
   ]
  },
  {
   "cell_type": "code",
   "execution_count": 24,
   "metadata": {
    "collapsed": true
   },
   "outputs": [],
   "source": [
    "data_raw = pd.read_json(\"data.json\")"
   ]
  },
  {
   "cell_type": "markdown",
   "metadata": {},
   "source": [
    "## Stage 2: Defining class label - gender"
   ]
  },
  {
   "cell_type": "code",
   "execution_count": 26,
   "metadata": {
    "collapsed": true
   },
   "outputs": [],
   "source": [
    "#inferred gender by all gender related buy ; find customers with only male related purchase\n",
    "data_raw.loc[(data_raw.male_items+data_raw.mapp_items+data_raw.mftw_items+data_raw.macc_items+data_raw.mspt_items>0) \n",
    "        & (data_raw.female_items+data_raw.wapp_items+data_raw.wftw_items+data_raw.wacc_items+data_raw.wspt_items==0),\n",
    "            'gender'] = 1\n",
    "#inferred gender by all gender related buy ; find customers with only female related purchase\n",
    "data_raw.loc[(data_raw.male_items+data_raw.mapp_items+data_raw.mftw_items+data_raw.macc_items+data_raw.mspt_items==0) \n",
    "        & (data_raw.female_items+data_raw.wapp_items+data_raw.wftw_items+data_raw.wacc_items+data_raw.wspt_items>0),\n",
    "            'gender'] = 0\n",
    "\n",
    "#As both male and female columns have been used as target geneation, they are expected very correlated with label;\n",
    "#remove them from later analysis\n",
    "target_related_feature=['male_items','mapp_items','mftw_items','macc_items','mspt_items'\\\n",
    "                       ,'female_items','wapp_items','wftw_items','wacc_items','wspt_items']\n",
    "data_raw.drop(target_related_feature, axis=1, inplace=True)\n",
    "\n"
   ]
  },
  {
   "cell_type": "markdown",
   "metadata": {},
   "source": [
    "## Stage 2: Data clean"
   ]
  },
  {
   "cell_type": "code",
   "execution_count": 27,
   "metadata": {},
   "outputs": [
    {
     "name": "stdout",
     "output_type": "stream",
     "text": [
      "(30133, 34)\n"
     ]
    }
   ],
   "source": [
    "import seaborn as sns\n",
    "\n",
    "#1.pick up training records only \n",
    "data_all=data_raw[data_raw.gender.isin([0,1])].copy(deep=True)\n",
    "print(data_all.shape)\n",
    "\n",
    "#2.fix the buy date issue (days_since_last_order, divide by 24)\n",
    "data_all['days_since_last_order'] = data_all['days_since_last_order']/24\n",
    "\n",
    "#3.make sure customer id is unique (drop duplicate records in this case)\n",
    "data_all.drop_duplicates(inplace=True)\n",
    "\n",
    "#print(data_all.head())\n",
    "\n",
    "\n"
   ]
  },
  {
   "cell_type": "markdown",
   "metadata": {},
   "source": [
    "## Stage 2: Preprocess features"
   ]
  },
  {
   "cell_type": "code",
   "execution_count": 29,
   "metadata": {
    "collapsed": true
   },
   "outputs": [],
   "source": [
    "y_train_all = data_all['gender'].copy(deep=True)\n",
    "y_train_all = pd.to_numeric(y_train_all)"
   ]
  },
  {
   "cell_type": "code",
   "execution_count": 30,
   "metadata": {},
   "outputs": [
    {
     "name": "stdout",
     "output_type": "stream",
     "text": [
      "[Variable Dropped]\n",
      "[Convert Found] - 0 columns to numeric. 2 columns to category.\n",
      "[DType Convert Done] - 2 columns to category.\n",
      "[Detecting Imputation]:\n",
      "000000000000000.00000000000000..  |33 (100.00 %)\n",
      "[Imputation Start]:\n",
      "      =                           |33 (100.00 %)\n",
      "[Lower Case Conversion Done]:\n"
     ]
    },
    {
     "name": "stderr",
     "output_type": "stream",
     "text": [
      "/home/phan5/bigjoin_bigquery/icon/config.py:68: UserWarning: [Missing Config - gender]\n",
      "  warnings.warn(\"[Missing Config - \" + column + \"]\"  )\n"
     ]
    }
   ],
   "source": [
    "config_file = pd.read_csv(os.path.join(work_dir, 'datatype.csv'), dtype=object)\n",
    "newConfig = ColumnConfigs(config_file)\n",
    "\n",
    "modelTest = Pipeline([\n",
    "    ('remover', VarRemover(newConfig)),\n",
    "    ('conveter', ConvertDType(newConfig)),\n",
    "    ('imputer', AllModelImputer(newConfig)), #this line is causing error\n",
    "    ('lower', ToLowerCase()),\n",
    "])\n",
    "\n",
    "features_all = modelTest.fit_transform(data_all)\n"
   ]
  },
  {
   "cell_type": "code",
   "execution_count": 31,
   "metadata": {
    "collapsed": true
   },
   "outputs": [],
   "source": [
    "fileName = 'feat_proc_obj'\n",
    "fileObject = open(fileName, 'wb')\n",
    "pickle.dump(modelTest, fileObject)\n",
    "fileObject.close()"
   ]
  },
  {
   "cell_type": "code",
   "execution_count": 32,
   "metadata": {
    "collapsed": true
   },
   "outputs": [],
   "source": [
    "fileName = 'features'\n",
    "fileObject = open(fileName, 'wb')\n",
    "pickle.dump(modelTest, fileObject)\n",
    "fileObject.close()"
   ]
  },
  {
   "cell_type": "markdown",
   "metadata": {},
   "source": [
    "# checking"
   ]
  },
  {
   "cell_type": "code",
   "execution_count": 33,
   "metadata": {},
   "outputs": [
    {
     "data": {
      "text/plain": [
       "(29958, 33)"
      ]
     },
     "execution_count": 33,
     "metadata": {},
     "output_type": "execute_result"
    }
   ],
   "source": [
    "features_all.shape"
   ]
  },
  {
   "cell_type": "code",
   "execution_count": 34,
   "metadata": {},
   "outputs": [
    {
     "data": {
      "text/plain": [
       "(29958, 34)"
      ]
     },
     "execution_count": 34,
     "metadata": {},
     "output_type": "execute_result"
    }
   ],
   "source": [
    "data_all.shape"
   ]
  },
  {
   "cell_type": "code",
   "execution_count": 35,
   "metadata": {},
   "outputs": [
    {
     "data": {
      "text/plain": [
       "(29958, 33)"
      ]
     },
     "execution_count": 35,
     "metadata": {},
     "output_type": "execute_result"
    }
   ],
   "source": [
    "features_all.shape"
   ]
  },
  {
   "cell_type": "code",
   "execution_count": 36,
   "metadata": {
    "collapsed": true
   },
   "outputs": [],
   "source": [
    "#X_train_all = .drop(,axis = 1)\n",
    "X_train_all = features_all._get_numeric_data()\n",
    "num_cols = X_train_all.columns.tolist()\n",
    "cat_cols = [col for col in features_all.columns if col not in  num_cols]"
   ]
  },
  {
   "cell_type": "code",
   "execution_count": 37,
   "metadata": {},
   "outputs": [
    {
     "data": {
      "text/html": [
       "<div>\n",
       "<style scoped>\n",
       "    .dataframe tbody tr th:only-of-type {\n",
       "        vertical-align: middle;\n",
       "    }\n",
       "\n",
       "    .dataframe tbody tr th {\n",
       "        vertical-align: top;\n",
       "    }\n",
       "\n",
       "    .dataframe thead th {\n",
       "        text-align: right;\n",
       "    }\n",
       "</style>\n",
       "<table border=\"1\" class=\"dataframe\">\n",
       "  <thead>\n",
       "    <tr style=\"text-align: right;\">\n",
       "      <th></th>\n",
       "      <th>afterpay_payments</th>\n",
       "      <th>android_orders</th>\n",
       "      <th>apple_payments</th>\n",
       "      <th>average_discount_onoffer</th>\n",
       "      <th>average_discount_used</th>\n",
       "      <th>cancels</th>\n",
       "      <th>coupon_discount_applied</th>\n",
       "      <th>curvy_items</th>\n",
       "      <th>days_since_first_order</th>\n",
       "      <th>days_since_last_order</th>\n",
       "      <th>...</th>\n",
       "      <th>parcelpoint_orders</th>\n",
       "      <th>redpen_discount_used</th>\n",
       "      <th>returns</th>\n",
       "      <th>revenue</th>\n",
       "      <th>sacc_items</th>\n",
       "      <th>shipping_addresses</th>\n",
       "      <th>unisex_items</th>\n",
       "      <th>vouchers</th>\n",
       "      <th>work_orders</th>\n",
       "      <th>coupon_discount_applied___mflg</th>\n",
       "    </tr>\n",
       "  </thead>\n",
       "  <tbody>\n",
       "    <tr>\n",
       "      <th>4</th>\n",
       "      <td>0</td>\n",
       "      <td>0</td>\n",
       "      <td>0</td>\n",
       "      <td>0.0000</td>\n",
       "      <td>0.0000</td>\n",
       "      <td>0</td>\n",
       "      <td>0.0</td>\n",
       "      <td>0</td>\n",
       "      <td>2053</td>\n",
       "      <td>2053.0</td>\n",
       "      <td>...</td>\n",
       "      <td>0</td>\n",
       "      <td>0.00</td>\n",
       "      <td>0</td>\n",
       "      <td>0.00</td>\n",
       "      <td>0</td>\n",
       "      <td>1</td>\n",
       "      <td>0</td>\n",
       "      <td>0</td>\n",
       "      <td>0</td>\n",
       "      <td>0</td>\n",
       "    </tr>\n",
       "    <tr>\n",
       "      <th>6</th>\n",
       "      <td>0</td>\n",
       "      <td>0</td>\n",
       "      <td>0</td>\n",
       "      <td>0.6983</td>\n",
       "      <td>6983.3887</td>\n",
       "      <td>0</td>\n",
       "      <td>0.0</td>\n",
       "      <td>0</td>\n",
       "      <td>2042</td>\n",
       "      <td>2042.0</td>\n",
       "      <td>...</td>\n",
       "      <td>0</td>\n",
       "      <td>94.59</td>\n",
       "      <td>0</td>\n",
       "      <td>40.86</td>\n",
       "      <td>0</td>\n",
       "      <td>1</td>\n",
       "      <td>0</td>\n",
       "      <td>0</td>\n",
       "      <td>0</td>\n",
       "      <td>0</td>\n",
       "    </tr>\n",
       "    <tr>\n",
       "      <th>9</th>\n",
       "      <td>0</td>\n",
       "      <td>0</td>\n",
       "      <td>0</td>\n",
       "      <td>0.0000</td>\n",
       "      <td>0.0000</td>\n",
       "      <td>1</td>\n",
       "      <td>0.0</td>\n",
       "      <td>0</td>\n",
       "      <td>2034</td>\n",
       "      <td>2034.0</td>\n",
       "      <td>...</td>\n",
       "      <td>0</td>\n",
       "      <td>0.00</td>\n",
       "      <td>0</td>\n",
       "      <td>0.00</td>\n",
       "      <td>0</td>\n",
       "      <td>1</td>\n",
       "      <td>0</td>\n",
       "      <td>0</td>\n",
       "      <td>0</td>\n",
       "      <td>0</td>\n",
       "    </tr>\n",
       "    <tr>\n",
       "      <th>13</th>\n",
       "      <td>0</td>\n",
       "      <td>0</td>\n",
       "      <td>0</td>\n",
       "      <td>0.0000</td>\n",
       "      <td>0.0000</td>\n",
       "      <td>0</td>\n",
       "      <td>0.0</td>\n",
       "      <td>0</td>\n",
       "      <td>2025</td>\n",
       "      <td>2025.0</td>\n",
       "      <td>...</td>\n",
       "      <td>0</td>\n",
       "      <td>0.00</td>\n",
       "      <td>1</td>\n",
       "      <td>45.41</td>\n",
       "      <td>0</td>\n",
       "      <td>1</td>\n",
       "      <td>0</td>\n",
       "      <td>0</td>\n",
       "      <td>0</td>\n",
       "      <td>0</td>\n",
       "    </tr>\n",
       "    <tr>\n",
       "      <th>17</th>\n",
       "      <td>0</td>\n",
       "      <td>0</td>\n",
       "      <td>0</td>\n",
       "      <td>0.5019</td>\n",
       "      <td>5019.3247</td>\n",
       "      <td>0</td>\n",
       "      <td>0.0</td>\n",
       "      <td>0</td>\n",
       "      <td>2077</td>\n",
       "      <td>2077.0</td>\n",
       "      <td>...</td>\n",
       "      <td>0</td>\n",
       "      <td>118.18</td>\n",
       "      <td>0</td>\n",
       "      <td>117.27</td>\n",
       "      <td>0</td>\n",
       "      <td>1</td>\n",
       "      <td>0</td>\n",
       "      <td>0</td>\n",
       "      <td>0</td>\n",
       "      <td>0</td>\n",
       "    </tr>\n",
       "  </tbody>\n",
       "</table>\n",
       "<p>5 rows × 30 columns</p>\n",
       "</div>"
      ],
      "text/plain": [
       "    afterpay_payments  android_orders  apple_payments  \\\n",
       "4                   0               0               0   \n",
       "6                   0               0               0   \n",
       "9                   0               0               0   \n",
       "13                  0               0               0   \n",
       "17                  0               0               0   \n",
       "\n",
       "    average_discount_onoffer  average_discount_used  cancels  \\\n",
       "4                     0.0000                 0.0000        0   \n",
       "6                     0.6983              6983.3887        0   \n",
       "9                     0.0000                 0.0000        1   \n",
       "13                    0.0000                 0.0000        0   \n",
       "17                    0.5019              5019.3247        0   \n",
       "\n",
       "    coupon_discount_applied  curvy_items  days_since_first_order  \\\n",
       "4                       0.0            0                    2053   \n",
       "6                       0.0            0                    2042   \n",
       "9                       0.0            0                    2034   \n",
       "13                      0.0            0                    2025   \n",
       "17                      0.0            0                    2077   \n",
       "\n",
       "    days_since_last_order               ...                parcelpoint_orders  \\\n",
       "4                  2053.0               ...                                 0   \n",
       "6                  2042.0               ...                                 0   \n",
       "9                  2034.0               ...                                 0   \n",
       "13                 2025.0               ...                                 0   \n",
       "17                 2077.0               ...                                 0   \n",
       "\n",
       "    redpen_discount_used  returns  revenue  sacc_items  shipping_addresses  \\\n",
       "4                   0.00        0     0.00           0                   1   \n",
       "6                  94.59        0    40.86           0                   1   \n",
       "9                   0.00        0     0.00           0                   1   \n",
       "13                  0.00        1    45.41           0                   1   \n",
       "17                118.18        0   117.27           0                   1   \n",
       "\n",
       "    unisex_items  vouchers  work_orders  coupon_discount_applied___mflg  \n",
       "4              0         0            0                               0  \n",
       "6              0         0            0                               0  \n",
       "9              0         0            0                               0  \n",
       "13             0         0            0                               0  \n",
       "17             0         0            0                               0  \n",
       "\n",
       "[5 rows x 30 columns]"
      ]
     },
     "execution_count": 37,
     "metadata": {},
     "output_type": "execute_result"
    }
   ],
   "source": [
    "X_train_all.head()"
   ]
  },
  {
   "cell_type": "markdown",
   "metadata": {},
   "source": [
    "## Stage 2: Preprocess features, Removing dense categories add onehot encoding"
   ]
  },
  {
   "cell_type": "code",
   "execution_count": 38,
   "metadata": {
    "collapsed": true
   },
   "outputs": [],
   "source": [
    "threshold = 20\n",
    "to_remove = []\n",
    "for col in cat_cols:\n",
    "    levels = len(features_all[col].value_counts())\n",
    "    if levels > threshold:\n",
    "        to_remove.append(col)\n",
    "\n",
    "features_all.drop(to_remove, axis = 1, inplace=True)"
   ]
  },
  {
   "cell_type": "code",
   "execution_count": 39,
   "metadata": {
    "collapsed": true
   },
   "outputs": [],
   "source": [
    "X_train_all = features_all._get_numeric_data()\n",
    "num_cols = X_train_all.columns.tolist()\n",
    "cat_cols = [col for col in features_all.columns if col not in  num_cols]"
   ]
  },
  {
   "cell_type": "code",
   "execution_count": 40,
   "metadata": {},
   "outputs": [
    {
     "data": {
      "text/plain": [
       "(29958, 30)"
      ]
     },
     "execution_count": 40,
     "metadata": {},
     "output_type": "execute_result"
    }
   ],
   "source": [
    "X_train_all.shape"
   ]
  },
  {
   "cell_type": "code",
   "execution_count": 41,
   "metadata": {
    "collapsed": true
   },
   "outputs": [],
   "source": [
    "if len(cat_cols) > 0:\n",
    "    for feature in cat_cols:\n",
    "        one_hot = pd.get_dummies(features_all[feature],prefix=feature+'||')\n",
    "        X_train_all = X_train_all.join(one_hot)"
   ]
  },
  {
   "cell_type": "code",
   "execution_count": 42,
   "metadata": {},
   "outputs": [
    {
     "data": {
      "text/html": [
       "<div>\n",
       "<style scoped>\n",
       "    .dataframe tbody tr th:only-of-type {\n",
       "        vertical-align: middle;\n",
       "    }\n",
       "\n",
       "    .dataframe tbody tr th {\n",
       "        vertical-align: top;\n",
       "    }\n",
       "\n",
       "    .dataframe thead th {\n",
       "        text-align: right;\n",
       "    }\n",
       "</style>\n",
       "<table border=\"1\" class=\"dataframe\">\n",
       "  <thead>\n",
       "    <tr style=\"text-align: right;\">\n",
       "      <th></th>\n",
       "      <th>afterpay_payments</th>\n",
       "      <th>android_orders</th>\n",
       "      <th>apple_payments</th>\n",
       "      <th>average_discount_onoffer</th>\n",
       "      <th>average_discount_used</th>\n",
       "      <th>cancels</th>\n",
       "      <th>coupon_discount_applied</th>\n",
       "      <th>curvy_items</th>\n",
       "      <th>days_since_first_order</th>\n",
       "      <th>days_since_last_order</th>\n",
       "      <th>...</th>\n",
       "      <th>unisex_items</th>\n",
       "      <th>vouchers</th>\n",
       "      <th>work_orders</th>\n",
       "      <th>coupon_discount_applied___mflg</th>\n",
       "      <th>is_newsletter_subscriber||_n</th>\n",
       "      <th>is_newsletter_subscriber||_y</th>\n",
       "      <th>paypal_payments||_0</th>\n",
       "      <th>paypal_payments||_1</th>\n",
       "      <th>cc_payments||_0</th>\n",
       "      <th>cc_payments||_1</th>\n",
       "    </tr>\n",
       "  </thead>\n",
       "  <tbody>\n",
       "    <tr>\n",
       "      <th>4</th>\n",
       "      <td>0</td>\n",
       "      <td>0</td>\n",
       "      <td>0</td>\n",
       "      <td>0.0000</td>\n",
       "      <td>0.0000</td>\n",
       "      <td>0</td>\n",
       "      <td>0.0</td>\n",
       "      <td>0</td>\n",
       "      <td>2053</td>\n",
       "      <td>2053.0</td>\n",
       "      <td>...</td>\n",
       "      <td>0</td>\n",
       "      <td>0</td>\n",
       "      <td>0</td>\n",
       "      <td>0</td>\n",
       "      <td>0</td>\n",
       "      <td>1</td>\n",
       "      <td>1</td>\n",
       "      <td>0</td>\n",
       "      <td>0</td>\n",
       "      <td>1</td>\n",
       "    </tr>\n",
       "    <tr>\n",
       "      <th>6</th>\n",
       "      <td>0</td>\n",
       "      <td>0</td>\n",
       "      <td>0</td>\n",
       "      <td>0.6983</td>\n",
       "      <td>6983.3887</td>\n",
       "      <td>0</td>\n",
       "      <td>0.0</td>\n",
       "      <td>0</td>\n",
       "      <td>2042</td>\n",
       "      <td>2042.0</td>\n",
       "      <td>...</td>\n",
       "      <td>0</td>\n",
       "      <td>0</td>\n",
       "      <td>0</td>\n",
       "      <td>0</td>\n",
       "      <td>1</td>\n",
       "      <td>0</td>\n",
       "      <td>1</td>\n",
       "      <td>0</td>\n",
       "      <td>0</td>\n",
       "      <td>1</td>\n",
       "    </tr>\n",
       "    <tr>\n",
       "      <th>9</th>\n",
       "      <td>0</td>\n",
       "      <td>0</td>\n",
       "      <td>0</td>\n",
       "      <td>0.0000</td>\n",
       "      <td>0.0000</td>\n",
       "      <td>1</td>\n",
       "      <td>0.0</td>\n",
       "      <td>0</td>\n",
       "      <td>2034</td>\n",
       "      <td>2034.0</td>\n",
       "      <td>...</td>\n",
       "      <td>0</td>\n",
       "      <td>0</td>\n",
       "      <td>0</td>\n",
       "      <td>0</td>\n",
       "      <td>0</td>\n",
       "      <td>1</td>\n",
       "      <td>1</td>\n",
       "      <td>0</td>\n",
       "      <td>0</td>\n",
       "      <td>1</td>\n",
       "    </tr>\n",
       "    <tr>\n",
       "      <th>13</th>\n",
       "      <td>0</td>\n",
       "      <td>0</td>\n",
       "      <td>0</td>\n",
       "      <td>0.0000</td>\n",
       "      <td>0.0000</td>\n",
       "      <td>0</td>\n",
       "      <td>0.0</td>\n",
       "      <td>0</td>\n",
       "      <td>2025</td>\n",
       "      <td>2025.0</td>\n",
       "      <td>...</td>\n",
       "      <td>0</td>\n",
       "      <td>0</td>\n",
       "      <td>0</td>\n",
       "      <td>0</td>\n",
       "      <td>0</td>\n",
       "      <td>1</td>\n",
       "      <td>1</td>\n",
       "      <td>0</td>\n",
       "      <td>0</td>\n",
       "      <td>1</td>\n",
       "    </tr>\n",
       "    <tr>\n",
       "      <th>17</th>\n",
       "      <td>0</td>\n",
       "      <td>0</td>\n",
       "      <td>0</td>\n",
       "      <td>0.5019</td>\n",
       "      <td>5019.3247</td>\n",
       "      <td>0</td>\n",
       "      <td>0.0</td>\n",
       "      <td>0</td>\n",
       "      <td>2077</td>\n",
       "      <td>2077.0</td>\n",
       "      <td>...</td>\n",
       "      <td>0</td>\n",
       "      <td>0</td>\n",
       "      <td>0</td>\n",
       "      <td>0</td>\n",
       "      <td>1</td>\n",
       "      <td>0</td>\n",
       "      <td>1</td>\n",
       "      <td>0</td>\n",
       "      <td>0</td>\n",
       "      <td>1</td>\n",
       "    </tr>\n",
       "  </tbody>\n",
       "</table>\n",
       "<p>5 rows × 36 columns</p>\n",
       "</div>"
      ],
      "text/plain": [
       "    afterpay_payments  android_orders  apple_payments  \\\n",
       "4                   0               0               0   \n",
       "6                   0               0               0   \n",
       "9                   0               0               0   \n",
       "13                  0               0               0   \n",
       "17                  0               0               0   \n",
       "\n",
       "    average_discount_onoffer  average_discount_used  cancels  \\\n",
       "4                     0.0000                 0.0000        0   \n",
       "6                     0.6983              6983.3887        0   \n",
       "9                     0.0000                 0.0000        1   \n",
       "13                    0.0000                 0.0000        0   \n",
       "17                    0.5019              5019.3247        0   \n",
       "\n",
       "    coupon_discount_applied  curvy_items  days_since_first_order  \\\n",
       "4                       0.0            0                    2053   \n",
       "6                       0.0            0                    2042   \n",
       "9                       0.0            0                    2034   \n",
       "13                      0.0            0                    2025   \n",
       "17                      0.0            0                    2077   \n",
       "\n",
       "    days_since_last_order       ...         unisex_items  vouchers  \\\n",
       "4                  2053.0       ...                    0         0   \n",
       "6                  2042.0       ...                    0         0   \n",
       "9                  2034.0       ...                    0         0   \n",
       "13                 2025.0       ...                    0         0   \n",
       "17                 2077.0       ...                    0         0   \n",
       "\n",
       "    work_orders  coupon_discount_applied___mflg  is_newsletter_subscriber||_n  \\\n",
       "4             0                               0                             0   \n",
       "6             0                               0                             1   \n",
       "9             0                               0                             0   \n",
       "13            0                               0                             0   \n",
       "17            0                               0                             1   \n",
       "\n",
       "    is_newsletter_subscriber||_y  paypal_payments||_0  paypal_payments||_1  \\\n",
       "4                              1                    1                    0   \n",
       "6                              0                    1                    0   \n",
       "9                              1                    1                    0   \n",
       "13                             1                    1                    0   \n",
       "17                             0                    1                    0   \n",
       "\n",
       "    cc_payments||_0  cc_payments||_1  \n",
       "4                 0                1  \n",
       "6                 0                1  \n",
       "9                 0                1  \n",
       "13                0                1  \n",
       "17                0                1  \n",
       "\n",
       "[5 rows x 36 columns]"
      ]
     },
     "execution_count": 42,
     "metadata": {},
     "output_type": "execute_result"
    }
   ],
   "source": [
    "X_train_all.head()"
   ]
  },
  {
   "cell_type": "code",
   "execution_count": 43,
   "metadata": {},
   "outputs": [
    {
     "data": {
      "text/plain": [
       "(29958, 36)"
      ]
     },
     "execution_count": 43,
     "metadata": {},
     "output_type": "execute_result"
    }
   ],
   "source": [
    "X_train_all.shape"
   ]
  },
  {
   "cell_type": "markdown",
   "metadata": {},
   "source": [
    "## Stage3 Fit XGBoost model"
   ]
  },
  {
   "cell_type": "code",
   "execution_count": 44,
   "metadata": {
    "collapsed": true
   },
   "outputs": [],
   "source": [
    "# Split Group B data into validation and test set\n",
    "X_train, X_val, y_train, y_val = train_test_split(X_train_all, y_train_all, test_size=0.2, random_state=20180814)\n"
   ]
  },
  {
   "cell_type": "code",
   "execution_count": 45,
   "metadata": {},
   "outputs": [
    {
     "name": "stderr",
     "output_type": "stream",
     "text": [
      "/home/phan5/anaconda3/lib/python3.7/site-packages/xgboost/core.py:587: FutureWarning: Series.base is deprecated and will be removed in a future version\n",
      "  if getattr(data, 'base', None) is not None and \\\n"
     ]
    }
   ],
   "source": [
    "xgbtrain_all = xgb.DMatrix(data = X_train_all, label = y_train_all\n",
    "#                            , weight = X_weights_all\n",
    "                           , feature_names=X_train_all.columns)\n",
    "xgbtrain = xgb.DMatrix(data = X_train, label = y_train\n",
    "#                        , weight = X_weights_train\n",
    "                       , feature_names=X_train.columns)\n",
    "xgbval = xgb.DMatrix(data = X_val, label = y_val\n",
    "#                      , weight = X_weights_test\n",
    "                     , feature_names=X_val.columns)"
   ]
  },
  {
   "cell_type": "code",
   "execution_count": 46,
   "metadata": {},
   "outputs": [
    {
     "name": "stdout",
     "output_type": "stream",
     "text": [
      "[0]\tval-auc:0.605486\n",
      "Will train until val-auc hasn't improved in 50 rounds.\n",
      "[50]\tval-auc:0.687928\n",
      "[100]\tval-auc:0.698862\n",
      "[150]\tval-auc:0.704005\n",
      "[200]\tval-auc:0.707869\n",
      "[250]\tval-auc:0.709713\n",
      "[300]\tval-auc:0.710797\n",
      "[350]\tval-auc:0.712017\n",
      "[400]\tval-auc:0.712822\n",
      "[450]\tval-auc:0.714277\n",
      "[500]\tval-auc:0.715488\n",
      "[550]\tval-auc:0.715876\n",
      "[600]\tval-auc:0.71677\n",
      "[650]\tval-auc:0.717363\n",
      "[700]\tval-auc:0.71803\n",
      "[750]\tval-auc:0.718898\n",
      "[800]\tval-auc:0.719493\n",
      "[850]\tval-auc:0.719643\n",
      "[900]\tval-auc:0.719646\n",
      "[950]\tval-auc:0.719691\n",
      "Stopping. Best iteration:\n",
      "[926]\tval-auc:0.71985\n",
      "\n"
     ]
    }
   ],
   "source": [
    "xgb_params = {\n",
    "    'eta': 0.03,\n",
    "    'max_depth': 5,\n",
    "    'subsample': 1,\n",
    "    'colsample_bytree': 0.8,\n",
    "    'objective': 'binary:logistic',\n",
    "    'eval_metric': 'auc',\n",
    "    'silent': 1,\n",
    "    'n_estimators': 1000\n",
    "}\n",
    "\n",
    "# Get a first estimate of XGB `num_boost_rounds`\n",
    "first_model = xgb.train(xgb_params, xgbtrain, num_boost_round=1000\n",
    "                        , evals=[(xgbval, 'val')]\n",
    "                        , early_stopping_rounds=50, verbose_eval=50)\n",
    "\n",
    "num_boost_round = first_model.best_iteration\n",
    "#print(num_boost_round)"
   ]
  },
  {
   "cell_type": "code",
   "execution_count": 47,
   "metadata": {},
   "outputs": [
    {
     "data": {
      "image/png": "[encoded data removed]",
      "text/plain": [
       "<Figure size 1080x360 with 1 Axes>"
      ]
     },
     "metadata": {
      "needs_background": "light"
     },
     "output_type": "display_data"
    }
   ],
   "source": [
    "def feat_imp(model, n_features = 20):\n",
    "\n",
    "    #d = model.get_booster().get_fscore()\n",
    "    d = model.get_score(importance_type='weight')\n",
    "    ss = sorted(d, key=d.get, reverse=True)\n",
    "    top_names = ss[0:n_features]\n",
    "\n",
    "    plt.figure(figsize=(15, 5))\n",
    "    plt.title(\"Feature importances\")\n",
    "    plt.bar(range(n_features), [d[i] for i in top_names], color=\"b\", align=\"center\")\n",
    "    plt.xlim(-1, n_features)\n",
    "    plt.xticks(range(n_features), top_names, rotation='vertical')\n",
    "\n",
    "feat_imp(first_model, n_features = 10)\n",
    "plt.show()\n",
    "\n",
    "# feat_imp(first_model, n_features = 50)\n",
    "# plt.show()"
   ]
  },
  {
   "cell_type": "markdown",
   "metadata": {},
   "source": [
    "## Stage3 Fit XGBoost model, tuning - marked as it takes too long to run"
   ]
  },
  {
   "cell_type": "markdown",
   "metadata": {},
   "source": [
    "def modelfit(alg, xgbtrain, useTrainCV=True, cv_folds=5, early_stopping_rounds=50):\n",
    "    \n",
    "    if useTrainCV:\n",
    "        xgb_param = alg.get_xgb_params()\n",
    "        cvresult = xgb.cv(xgb_param, xgbtrain, num_boost_round=alg.get_params()['n_estimators'], nfold=cv_folds,\n",
    "                          metrics='auc', early_stopping_rounds=early_stopping_rounds,\n",
    "                          callbacks=[xgb.callback.print_evaluation(show_stdv=True)])\n",
    "        alg.set_params(n_estimators=cvresult.shape[0])\n",
    "    \n",
    "    #Fit the algorithm on the data\n",
    "    alg.fit(X_train_all, y_train_all,eval_metric='auc')\n",
    "        \n",
    "    #Predict training set:\n",
    "    X_train_all_pred = alg.predict(X_train_all)\n",
    "    X_train_all_predprob = alg.predict_proba(X_train_all)[:,1]\n",
    "    \n",
    "    #Print model report:\n",
    "    print('Model Report')\n",
    "    print('AUC Score (Train): {}'.format(metrics.roc_auc_score(y_train_all, X_train_all_predprob)))\n",
    "    \n",
    "    feat_imp = pd.Series(alg.get_booster().get_fscore()).sort_values(ascending=False)\n",
    "    feat_imp.plot(kind='bar', title='Feature Importances')\n",
    "    plt.ylabel('Feature Importance Score')\n",
    "    \n",
    "    return cvresult"
   ]
  },
  {
   "cell_type": "code",
   "execution_count": null,
   "metadata": {
    "collapsed": true
   },
   "outputs": [],
   "source": [
    "# Tuning max_depth and min_child_weight next after using a fixed learning rate and first estimate of number of trees\n",
    "parameters = {'nthread':[64]\n",
    "              ,'objective':['binary:logistic']\n",
    "              ,'learning_rate': [0.03]\n",
    "              ,'n_estimators': [num_boost_round]\n",
    "              ,'max_depth':range(3,10,2)\n",
    "              ,'min_child_weight': range(2,6,2)\n",
    "              ,'gamma': [0, .1, .2, .3, .4]\n",
    "              ,'subsample': [.6, .7, .8, .9]\n",
    "              ,'colsample_bytree': [.6, .7, .8, .9]\n",
    "              , 'reg_alpha': [1e-5, 1e-2, 0.1, 1, 100]\n",
    "              }\n",
    "k = StratifiedKFold(n_splits=5)\n",
    "\n",
    "xgb_model = xgb.XGBClassifier()\n",
    "# grid_search = GridSearchCV(xgb_model,\n",
    "#                         parameters,\n",
    "#                         cv = 5,\n",
    "#                         n_jobs = 4,\n",
    "#                         scoring='roc_auc',\n",
    "#                         verbose=True)\n",
    "\n",
    "grid_search = RandomizedSearchCV(xgb_model,\n",
    "                                 parameters,\n",
    "                                 n_iter=30,\n",
    "                                 n_jobs = 4,\n",
    "                                 cv=k,\n",
    "                                 scoring='roc_auc',\n",
    "                                 verbose=50)\n",
    "\n",
    "grid_result = grid_search.fit(X_train_all, y_train_all)\n",
    "\n",
    "# summarize results\n",
    "print(\"Best: %f using %s\" % (grid_result.best_score_, grid_result.best_params_))\n",
    "means = grid_result.cv_results_['mean_test_score']\n",
    "stds = grid_result.cv_results_['std_test_score']\n",
    "params = grid_result.cv_results_['params']\n",
    "for mean, stdev, param in zip(means, stds, params):\n",
    "    print(\"%f (%f) with: %r\" % (mean, stdev, param))"
   ]
  },
  {
   "cell_type": "code",
   "execution_count": null,
   "metadata": {
    "collapsed": true
   },
   "outputs": [],
   "source": [
    "# Tuning max_depth and min_child_weight next after using a fixed learning rate and first estimate of number of trees\n",
    "parameters = {'nthread':[64]\n",
    "              ,'objective':['binary:logistic']\n",
    "              ,'learning_rate': [0.03]\n",
    "              ,'n_estimators': [num_boost_round]\n",
    "#               ,'scale_pos_weight': [183.8801]\n",
    "              ,'subsample': [1]\n",
    "              ,'colsample_bytree': [0.8]\n",
    "              ,'max_depth':range(3,10,2)\n",
    "              ,'min_child_weight': range(2,6,2)\n",
    "              }\n",
    "\n",
    "\n",
    "xgb_model = xgb.XGBClassifier()\n",
    "grid_search = GridSearchCV(xgb_model,\n",
    "                        parameters,\n",
    "                        cv = 5,\n",
    "                        n_jobs = 4,\n",
    "                        scoring='roc_auc',\n",
    "                        verbose=True)\n",
    "\n",
    "# grid_search = RandomizedSearchCV(xgb_model,\n",
    "#                                  parameters,\n",
    "#                                  n_iter=5,\n",
    "#                                  cv=3,\n",
    "#                                  scoring='roc_auc',\n",
    "#                                  verbose=True)\n",
    "\n",
    "grid_result = grid_search.fit(X_train_all, y_train_all)\n",
    "\n",
    "# summarize results\n",
    "print(\"Best: %f using %s\" % (grid_result.best_score_, grid_result.best_params_))\n",
    "means = grid_result.cv_results_['mean_test_score']\n",
    "stds = grid_result.cv_results_['std_test_score']\n",
    "params = grid_result.cv_results_['params']\n",
    "for mean, stdev, param in zip(means, stds, params):\n",
    "    print(\"%f (%f) with: %r\" % (mean, stdev, param))"
   ]
  },
  {
   "cell_type": "code",
   "execution_count": null,
   "metadata": {
    "collapsed": true
   },
   "outputs": [],
   "source": [
    "# Tuning gamma after fixing previous tuned best parameters\n",
    "parameters['max_depth'] = [grid_result.best_params_['max_depth']]\n",
    "parameters['min_child_weight'] = [grid_result.best_params_['min_child_weight']]\n",
    "parameters['gamma'] = [0, .1, .2, .3, .4]\n",
    "\n",
    "\n",
    "grid_search = GridSearchCV(xgb_model,\n",
    "                        parameters,\n",
    "                        cv = 5,\n",
    "                        n_jobs = 4,\n",
    "                        scoring='roc_auc',\n",
    "                        verbose=True)\n",
    "\n",
    "# grid_search = RandomizedSearchCV(xgb_model,\n",
    "#                                  parameters,\n",
    "#                                  n_iter=5,\n",
    "#                                  cv=3,\n",
    "#                                  scoring='roc_auc',\n",
    "#                                  verbose=True)\n",
    "\n",
    "grid_result = grid_search.fit(X_train_all, y_train_all)\n",
    "\n",
    "# summarize results\n",
    "print(\"Best: %f using %s\" % (grid_result.best_score_, grid_result.best_params_))\n",
    "means = grid_result.cv_results_['mean_test_score']\n",
    "stds = grid_result.cv_results_['std_test_score']\n",
    "params = grid_result.cv_results_['params']\n",
    "for mean, stdev, param in zip(means, stds, params):\n",
    "    print(\"%f (%f) with: %r\" % (mean, stdev, param))\n",
    "    "
   ]
  },
  {
   "cell_type": "code",
   "execution_count": null,
   "metadata": {
    "collapsed": true
   },
   "outputs": [],
   "source": [
    "# Tuning row and column subsample parameters after fixing previous tuned best parameters\n",
    "parameters['gamma'] = [grid_result.best_params_['gamma']]\n",
    "parameters['subsample'] = [.6, .7, .8, .9]\n",
    "parameters['colsample_bytree'] = [.6, .7, .8, .9]\n",
    "\n",
    "\n",
    "\n",
    "grid_search = GridSearchCV(xgb_model,\n",
    "                        parameters,\n",
    "                        cv = 5,\n",
    "                        n_jobs = 4,\n",
    "                        scoring='roc_auc',\n",
    "                        verbose=True)\n",
    "\n",
    "# grid_search = RandomizedSearchCV(xgb_model,\n",
    "#                                  parameters,\n",
    "#                                  n_iter=10,\n",
    "#                                  cv=3,\n",
    "#                                  scoring='roc_auc',\n",
    "#                                  verbose=True)\n",
    "\n",
    "grid_result = grid_search.fit(X_train_all, y_train_all)\n",
    "\n",
    "# summarize results\n",
    "print(\"Best: %f using %s\" % (grid_result.best_score_, grid_result.best_params_))\n",
    "means = grid_result.cv_results_['mean_test_score']\n",
    "stds = grid_result.cv_results_['std_test_score']\n",
    "params = grid_result.cv_results_['params']\n",
    "for mean, stdev, param in zip(means, stds, params):\n",
    "    print(\"%f (%f) with: %r\" % (mean, stdev, param))"
   ]
  },
  {
   "cell_type": "code",
   "execution_count": null,
   "metadata": {
    "collapsed": true
   },
   "outputs": [],
   "source": [
    "# Tuning regularisation parameter after fixing previous tuned best parameters\n",
    "parameters['subsample'] = [grid_result.best_params_['subsample']]\n",
    "parameters['colsample_bytree'] = [grid_result.best_params_['colsample_bytree']]\n",
    "parameters['reg_alpha'] = [1e-5, 1e-2, 0.1, 1, 100]\n",
    "\n",
    "grid_search = GridSearchCV(xgb_model,\n",
    "                        parameters,\n",
    "                        cv = 5,\n",
    "                        n_jobs = 4,\n",
    "                        scoring='roc_auc',\n",
    "                        verbose=True)\n",
    "# grid_search = RandomizedSearchCV(xgb_model,\n",
    "#                                  parameters,\n",
    "#                                  n_iter=5,\n",
    "#                                  cv=3,\n",
    "#                                  scoring='roc_auc',\n",
    "#                                  verbose=True)\n",
    "\n",
    "grid_result = grid_search.fit(X_train_all, y_train_all)\n",
    "\n",
    "# summarize results\n",
    "print(\"Best: %f using %s\" % (grid_result.best_score_, grid_result.best_params_))\n",
    "means = grid_result.cv_results_['mean_test_score']\n",
    "stds = grid_result.cv_results_['std_test_score']\n",
    "params = grid_result.cv_results_['params']\n",
    "for mean, stdev, param in zip(means, stds, params):\n",
    "    print(\"%f (%f) with: %r\" % (mean, stdev, param))"
   ]
  },
  {
   "cell_type": "code",
   "execution_count": null,
   "metadata": {
    "collapsed": true
   },
   "outputs": [],
   "source": [
    "parameters['reg_alpha'] = [grid_result.best_params_['reg_alpha']]"
   ]
  },
  {
   "cell_type": "code",
   "execution_count": null,
   "metadata": {
    "collapsed": true
   },
   "outputs": [],
   "source": [
    "for parameter in parameters:\n",
    "    parameters[parameter] = parameters[parameter][0]\n",
    "parameters['learning_rate'] = 0.01\n",
    "parameters['n_estimators'] = 3000\n",
    "parameters['silent'] = False\n",
    "parameters['max_delta_step'] = 0\n",
    "parameters['base_score'] = 0.5\n",
    "parameters['scoring'] ='roc_auc'"
   ]
  },
  {
   "cell_type": "code",
   "execution_count": null,
   "metadata": {
    "collapsed": true
   },
   "outputs": [],
   "source": [
    "cvresult = modelfit(xgb.XGBClassifier(**parameters)\n",
    "         , xgbtrain_all)"
   ]
  },
  {
   "cell_type": "code",
   "execution_count": null,
   "metadata": {
    "collapsed": true
   },
   "outputs": [],
   "source": [
    "parameters['n_estimators'] = cvresult.shape[0]"
   ]
  },
  {
   "cell_type": "code",
   "execution_count": null,
   "metadata": {
    "collapsed": true
   },
   "outputs": [],
   "source": [
    "# Fit final model with learning rate = 0.01 and grid search tuned parameters.\n",
    "final_model = xgb.XGBClassifier(**parameters).fit(X_train, y_train)"
   ]
  },
  {
   "cell_type": "code",
   "execution_count": null,
   "metadata": {
    "collapsed": true
   },
   "outputs": [],
   "source": [
    "# calculate the fpr and tpr for all thresholds of the classification\n",
    "probs = final_model.predict_proba(X_val)\n",
    "preds = probs[:,1]\n",
    "fpr, tpr, threshold = metrics.roc_curve(y_val, preds)\n",
    "roc_auc = metrics.auc(fpr, tpr)\n",
    "\n",
    "plt.title('Receiver Operating Characteristic')\n",
    "plt.plot(fpr, tpr, 'b', label = 'AUC = %0.2f' % roc_auc)\n",
    "plt.legend(loc = 'lower right')\n",
    "plt.plot([0, 1], [0, 1],'r--')\n",
    "plt.xlim([0, 1])\n",
    "plt.ylim([0, 1])\n",
    "plt.ylabel('True Positive Rate')\n",
    "plt.xlabel('False Positive Rate')\n",
    "plt.show()"
   ]
  },
  {
   "cell_type": "code",
   "execution_count": null,
   "metadata": {
    "collapsed": true
   },
   "outputs": [],
   "source": [
    "feat_imp(final_model,15)"
   ]
  },
  {
   "cell_type": "markdown",
   "metadata": {},
   "source": [
    "## Stage 4 : DELIVER - Package all your process, findings and code into a reproducible document that can be understood by a business user. A repo of the code branch would be a great thing to have! This reproducible report* must answer the following questions:\n",
    "\n",
    "How did you clean the data and what was wrong with it? Close to 90% of a Data Scientist's job is in cleaning data\n",
    "What are the features you used as-is and which one did you engineer using the given ones? What do they mean in the real world?\n",
    "What does the output look like - how close is the accuracy of the prediction in light of data with labelled flags?\n",
    "What other features and variables can you think of, that can make this process more robust? Can you make a recommendation of top 5 features you'd seek to find apart from the ones given here\n",
    "Summarize your findings in an executive summary"
   ]
  },
  {
   "cell_type": "markdown",
   "metadata": {},
   "source": [
    "1. How did you clean the data and what was wrong with it? Close to 90% of a Data Scientist's job is in cleaning data\n",
    "\n",
    "There are two clear issues with the training dataset:\n",
    "  a. There are duplicate records in training, they should be deduped.\n",
    "  b. Column \"days_since_last_order\" has been accidentally multiplied by 24. It should be restored by deviding by 24."
   ]
  },
  {
   "cell_type": "markdown",
   "metadata": {},
   "source": [
    "2. What are the features you used as-is and which one did you engineer using the given ones? What do they mean in the real \n",
    "world?\n",
    "\n",
    "  a. Many count features(orders, cancels etc) are long tailed as shown in the diagram. There are two general approaches to solve the problem, either log transform to normalize or use tree based algorithm. I have used xgboost so it can be used without transform, but if I need to use neural network based appraoches. These long tailed features need to be normalized to the same/similar scale.\n",
    "  \n",
    "  b. For missing features(coupon_discount_applied), I have applied imputation(mostly replace by zero)\n",
    "  \n",
    "  c. For categorycal features (is_newsletter_subscriber, cc_payments, paypal_payments), I have applied one hot encoding.\n",
    "  \n",
    "  d. Days_since_first_purchase, Days_since_last_purchase and revenue at top three NON gendered related features that are most indicative to predict customers' gender."
   ]
  },
  {
   "cell_type": "markdown",
   "metadata": {},
   "source": [
    " 3. What does the output look like - how close is the accuracy of the prediction in light of data with labelled flags?\n",
    " \n",
    "   a. There are ten features with gender labeled label. To make training infered label more reliable, I labeled male customers if they have no transaction of female related items. The vise versa for identifying female customers. \n",
    "   As these ten features male_items, mapp_items, mftw_items, macc_items, mspt_items, female_items, wapp_items, wftw_items, wacc_items, wspt_items have been used in defining training label and very indicative of gender they are excluded from the training and hyperparameter tuning process. According to the AUC of cross validation test, we achieved and AUC of 0.72 when NOT using any gender indicative features to do the prediction. Consider customers bought both female and male items are around 34%. The combined AUC will be around 90%. "
   ]
  },
  {
   "cell_type": "markdown",
   "metadata": {},
   "source": [
    "4. What other features and variables can you think of, that can make this process more robust? Can you make a recommendation of top 5 features you'd seek to find apart from the ones given here\n",
    "\n",
    "  a. There are three senario where we have different level of confidence of users' gender. \n",
    "    1. buy female labeled products only.\n",
    "    2. buy male labeled products only.\n",
    "    3. buy both female and male labeled products.\n",
    "  we can easily and more confidently determine customer gender for scenario 1 and 2. For senario3, it is difficult. But if we learn from scenario 1 and 2 the non gendered item transaction propensity, we can test and validate our best guess. \n",
    "\n",
    "  b. There is no validation process that help to confirm customer genders. To make the prediction more robust, especially for scenario 3, a email campaign or online survey or \n",
    "  \n",
    "  c. Female is known have different shopping behavior from male. I would suggest to collect\n",
    "  * online account username, email name \n",
    "  * online shopping session duration (aggregated per session)\n",
    "  * ratio between visits and purchases\n",
    "  * premiumship of product purchaseed (whether products purchased are generally low or upper end products)\n",
    "  * IPI (inter purchase interval) for each customer\n"
   ]
  },
  {
   "cell_type": "markdown",
   "metadata": {},
   "source": [
    "5. refer to the PPT attached "
   ]
  },
  {
   "cell_type": "code",
   "execution_count": null,
   "metadata": {
    "collapsed": true
   },
   "outputs": [],
   "source": []
  }
 ],
 "metadata": {
  "kernelspec": {
   "display_name": "Python 3",
   "language": "python",
   "name": "python3"
  },
  "language_info": {
   "codemirror_mode": {
    "name": "ipython",
    "version": 3
   },
   "file_extension": ".py",
   "mimetype": "text/x-python",
   "name": "python",
   "nbconvert_exporter": "python",
   "pygments_lexer": "ipython3",
   "version": "3.6.3"
  }
 },
 "nbformat": 4,
 "nbformat_minor": 2
}
